{
 "cells": [
  {
   "cell_type": "code",
   "execution_count": 1,
   "metadata": {},
   "outputs": [],
   "source": [
    "# Initialization\n",
    "import pandas as pd\n",
    "import numpy as np\n",
    "\n",
    "import matplotlib.pyplot as plt\n",
    "\n",
    "hyper_parameter = 0.0001"
   ]
  },
  {
   "cell_type": "code",
   "execution_count": 2,
   "metadata": {},
   "outputs": [],
   "source": [
    "df = pd.read_csv(\"sample.csv\")\n",
    "\n",
    "df.columns = [\"feature\", \"target\"]"
   ]
  },
  {
   "cell_type": "code",
   "execution_count": 3,
   "metadata": {},
   "outputs": [
    {
     "data": {
      "text/html": [
       "<div>\n",
       "<style scoped>\n",
       "    .dataframe tbody tr th:only-of-type {\n",
       "        vertical-align: middle;\n",
       "    }\n",
       "\n",
       "    .dataframe tbody tr th {\n",
       "        vertical-align: top;\n",
       "    }\n",
       "\n",
       "    .dataframe thead th {\n",
       "        text-align: right;\n",
       "    }\n",
       "</style>\n",
       "<table border=\"1\" class=\"dataframe\">\n",
       "  <thead>\n",
       "    <tr style=\"text-align: right;\">\n",
       "      <th></th>\n",
       "      <th>feature</th>\n",
       "      <th>target</th>\n",
       "    </tr>\n",
       "  </thead>\n",
       "  <tbody>\n",
       "    <tr>\n",
       "      <td>0</td>\n",
       "      <td>53.426804</td>\n",
       "      <td>68.777596</td>\n",
       "    </tr>\n",
       "    <tr>\n",
       "      <td>1</td>\n",
       "      <td>61.530358</td>\n",
       "      <td>62.562382</td>\n",
       "    </tr>\n",
       "    <tr>\n",
       "      <td>2</td>\n",
       "      <td>47.475640</td>\n",
       "      <td>71.546632</td>\n",
       "    </tr>\n",
       "    <tr>\n",
       "      <td>3</td>\n",
       "      <td>59.813208</td>\n",
       "      <td>87.230925</td>\n",
       "    </tr>\n",
       "    <tr>\n",
       "      <td>4</td>\n",
       "      <td>55.142188</td>\n",
       "      <td>78.211518</td>\n",
       "    </tr>\n",
       "  </tbody>\n",
       "</table>\n",
       "</div>"
      ],
      "text/plain": [
       "     feature     target\n",
       "0  53.426804  68.777596\n",
       "1  61.530358  62.562382\n",
       "2  47.475640  71.546632\n",
       "3  59.813208  87.230925\n",
       "4  55.142188  78.211518"
      ]
     },
     "execution_count": 3,
     "metadata": {},
     "output_type": "execute_result"
    }
   ],
   "source": [
    "df.head()"
   ]
  },
  {
   "cell_type": "code",
   "execution_count": 4,
   "metadata": {},
   "outputs": [],
   "source": [
    "train_ratio = int(0.75 * len(df))"
   ]
  },
  {
   "cell_type": "code",
   "execution_count": 5,
   "metadata": {},
   "outputs": [
    {
     "data": {
      "text/plain": [
       "0      68.777596\n",
       "1      62.562382\n",
       "2      71.546632\n",
       "3      87.230925\n",
       "4      78.211518\n",
       "         ...    \n",
       "69     50.392670\n",
       "70     63.642399\n",
       "71     72.247251\n",
       "72     57.812513\n",
       "73    104.257102\n",
       "Name: target, Length: 74, dtype: float64"
      ]
     },
     "execution_count": 5,
     "metadata": {},
     "output_type": "execute_result"
    }
   ],
   "source": [
    "y_train = df[\"target\"].iloc[:train_ratio]\n",
    "y_train"
   ]
  },
  {
   "cell_type": "code",
   "execution_count": 6,
   "metadata": {},
   "outputs": [
    {
     "data": {
      "text/plain": [
       "0     53.426804\n",
       "1     61.530358\n",
       "2     47.475640\n",
       "3     59.813208\n",
       "4     55.142188\n",
       "        ...    \n",
       "69    31.588117\n",
       "70    53.660932\n",
       "71    46.682229\n",
       "72    43.107820\n",
       "73    70.346076\n",
       "Name: feature, Length: 74, dtype: float64"
      ]
     },
     "execution_count": 6,
     "metadata": {},
     "output_type": "execute_result"
    }
   ],
   "source": [
    "x_train = df[\"feature\"].iloc[:train_ratio]\n",
    "x_train"
   ]
  },
  {
   "cell_type": "code",
   "execution_count": 7,
   "metadata": {
    "scrolled": true
   },
   "outputs": [
    {
     "data": {
      "image/png": "[encoded data removed]",
      "text/plain": [
       "<Figure size 432x288 with 1 Axes>"
      ]
     },
     "metadata": {
      "needs_background": "light"
     },
     "output_type": "display_data"
    }
   ],
   "source": [
    "plt.scatter(x_train, y_train)\n",
    "plt.show()"
   ]
  },
  {
   "cell_type": "markdown",
   "metadata": {},
   "source": [
    "using following formulas to calculate \n",
    "\n",
    "Slope and constant for the line:\n",
    "\n",
    "For m:\n",
    "\n",
    "- m = m - alpha * (-2/n) * sum(x * (ypred - yobs))\n",
    "- c = c - alpha * (-2/n) * sum(ypred - yobs)"
   ]
  },
  {
   "cell_type": "code",
   "execution_count": 8,
   "metadata": {},
   "outputs": [],
   "source": [
    "from functools import reduce\n",
    "\n",
    "def getRegressionLine(x_train, y_train, alpha, iterations):\n",
    "    n = x_train.shape[0]\n",
    "    m = 0\n",
    "    c = 0\n",
    "    for i in range(0, iterations):\n",
    "        y = m*x_train + c\n",
    "        loss = y_train - y\n",
    "        m = m - alpha * (-2/n) * sum(x_train * (loss))\n",
    "        c = c - alpha * (-2/n) * sum(loss)\n",
    "    return (m, c)"
   ]
  },
  {
   "cell_type": "code",
   "execution_count": 9,
   "metadata": {},
   "outputs": [],
   "source": [
    "m,c = getRegressionLine(x_train, y_train, hyper_parameter, 1000)"
   ]
  },
  {
   "cell_type": "code",
   "execution_count": 10,
   "metadata": {
    "scrolled": true
   },
   "outputs": [
    {
     "name": "stdout",
     "output_type": "stream",
     "text": [
      "Equation is: Y = 1.4570286955465837*X + 0.08132407563172861\n"
     ]
    }
   ],
   "source": [
    "print(f\"Equation is: Y = {m}*X + {c}\")"
   ]
  },
  {
   "cell_type": "code",
   "execution_count": 11,
   "metadata": {},
   "outputs": [
    {
     "data": {
      "text/plain": [
       "[<matplotlib.lines.Line2D at 0x11cf381d0>]"
      ]
     },
     "execution_count": 11,
     "metadata": {},
     "output_type": "execute_result"
    },
    {
     "data": {
      "image/png": "[encoded data removed]",
      "text/plain": [
       "<Figure size 432x288 with 1 Axes>"
      ]
     },
     "metadata": {
      "needs_background": "light"
     },
     "output_type": "display_data"
    }
   ],
   "source": [
    "results = m*x_train+c\n",
    "\n",
    "plt.scatter(x_train, y_train)\n",
    "plt.plot([min(x_train), max(x_train)], [min(results), max(results)], color='red')"
   ]
  },
  {
   "cell_type": "markdown",
   "metadata": {},
   "source": [
    "## TESTING"
   ]
  },
  {
   "cell_type": "code",
   "execution_count": 12,
   "metadata": {},
   "outputs": [
    {
     "data": {
      "text/plain": [
       "75     91.486778\n",
       "76     55.231661\n",
       "77     79.550437\n",
       "78     44.847124\n",
       "79     80.207523\n",
       "80     83.142750\n",
       "81     55.723489\n",
       "82     77.634183\n",
       "83     99.051415\n",
       "84     79.120646\n",
       "85     69.588898\n",
       "86     69.510503\n",
       "87     73.687564\n",
       "88     61.366905\n",
       "89     67.170656\n",
       "90     85.668203\n",
       "91    114.853871\n",
       "92     90.123572\n",
       "93     97.919821\n",
       "94     81.536991\n",
       "95     72.111832\n",
       "96     85.232007\n",
       "97     66.224958\n",
       "98     53.454394\n",
       "Name: target, dtype: float64"
      ]
     },
     "execution_count": 12,
     "metadata": {},
     "output_type": "execute_result"
    }
   ],
   "source": [
    "y_test = df[\"target\"].iloc[train_ratio+1:]\n",
    "\n",
    "y_test"
   ]
  },
  {
   "cell_type": "code",
   "execution_count": 13,
   "metadata": {},
   "outputs": [
    {
     "data": {
      "text/plain": [
       "75    57.504533\n",
       "76    36.930077\n",
       "77    55.805733\n",
       "78    38.954769\n",
       "79    56.901215\n",
       "80    56.868901\n",
       "81    34.333125\n",
       "82    59.049741\n",
       "83    57.788224\n",
       "84    54.282329\n",
       "85    51.088720\n",
       "86    50.282836\n",
       "87    44.211742\n",
       "88    38.005488\n",
       "89    32.940480\n",
       "90    53.691640\n",
       "91    68.765734\n",
       "92    46.230966\n",
       "93    68.319361\n",
       "94    50.030174\n",
       "95    49.239765\n",
       "96    50.039576\n",
       "97    48.149859\n",
       "98    25.128485\n",
       "Name: feature, dtype: float64"
      ]
     },
     "execution_count": 13,
     "metadata": {},
     "output_type": "execute_result"
    }
   ],
   "source": [
    "x_test = df[\"feature\"].iloc[train_ratio+1:]\n",
    "\n",
    "x_test"
   ]
  },
  {
   "cell_type": "code",
   "execution_count": 14,
   "metadata": {},
   "outputs": [],
   "source": [
    "predictions = m*x_test + c"
   ]
  },
  {
   "cell_type": "code",
   "execution_count": 15,
   "metadata": {},
   "outputs": [
    {
     "data": {
      "text/plain": [
       "75     83.867079\n",
       "76     53.889505\n",
       "77     81.391879\n",
       "78     56.839540\n",
       "79     82.988027\n",
       "80     82.940944\n",
       "81     50.105672\n",
       "82     86.118491\n",
       "83     84.280425\n",
       "84     79.172235\n",
       "85     74.519055\n",
       "86     73.344860\n",
       "87     64.499100\n",
       "88     55.456411\n",
       "89     48.076549\n",
       "90     78.311584\n",
       "91    100.274972\n",
       "92     67.441169\n",
       "93     99.624593\n",
       "94     72.976724\n",
       "95     71.825075\n",
       "96     72.990422\n",
       "97     70.237050\n",
       "98     36.694247\n",
       "Name: feature, dtype: float64"
      ]
     },
     "execution_count": 15,
     "metadata": {},
     "output_type": "execute_result"
    }
   ],
   "source": [
    "predictions"
   ]
  },
  {
   "cell_type": "code",
   "execution_count": 16,
   "metadata": {},
   "outputs": [
    {
     "data": {
      "text/plain": [
       "[<matplotlib.lines.Line2D at 0x11cfc6a50>]"
      ]
     },
     "execution_count": 16,
     "metadata": {},
     "output_type": "execute_result"
    },
    {
     "data": {
      "image/png": "[encoded data removed]",
      "text/plain": [
       "<Figure size 432x288 with 1 Axes>"
      ]
     },
     "metadata": {
      "needs_background": "light"
     },
     "output_type": "display_data"
    }
   ],
   "source": [
    "plt.scatter(x_test, y_test)\n",
    "plt.plot([min(x_test), max(x_test)], [min(predictions), max(predictions)], color='red')"
   ]
  },
  {
   "cell_type": "markdown",
   "metadata": {},
   "source": [
    "## ACCURACY"
   ]
  },
  {
   "cell_type": "code",
   "execution_count": 17,
   "metadata": {},
   "outputs": [
    {
     "name": "stdout",
     "output_type": "stream",
     "text": [
      "0.6106992261997403\n"
     ]
    }
   ],
   "source": [
    "from sklearn.metrics import r2_score\n",
    "\n",
    "print(r2_score(y_test, predictions))"
   ]
  },
  {
   "cell_type": "code",
   "execution_count": 18,
   "metadata": {},
   "outputs": [
    {
     "name": "stdout",
     "output_type": "stream",
     "text": [
      "0.5671223516484414\n"
     ]
    }
   ],
   "source": [
    "from sklearn.metrics import r2_score\n",
    "\n",
    "print(r2_score(y_train, results))"
   ]
  }
 ],
 "metadata": {
  "kernelspec": {
   "display_name": "Python 3",
   "language": "python",
   "name": "python3"
  },
  "language_info": {
   "codemirror_mode": {
    "name": "ipython",
    "version": 3
   },
   "file_extension": ".py",
   "mimetype": "text/x-python",
   "name": "python",
   "nbconvert_exporter": "python",
   "pygments_lexer": "ipython3",
   "version": "3.7.4"
  }
 },
 "nbformat": 4,
 "nbformat_minor": 2
}
